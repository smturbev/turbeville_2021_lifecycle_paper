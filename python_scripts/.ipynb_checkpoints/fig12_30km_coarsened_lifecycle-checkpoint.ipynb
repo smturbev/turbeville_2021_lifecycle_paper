{
 "cells": [
  {
   "cell_type": "code",
   "execution_count": 1,
   "metadata": {},
   "outputs": [],
   "source": [
    "import numpy as np\n",
    "import utility.load01deg as load"
   ]
  },
  {
   "cell_type": "code",
   "execution_count": 2,
   "metadata": {},
   "outputs": [
    {
     "name": "stdout",
     "output_type": "stream",
     "text": [
      "Returned fwp for NICAM (TWP) with shape: (3936, 1, 100, 100)\n",
      "Returned SWU for NICAM (TWP) with shape: (3744, 100, 100)\n",
      "Returned SWD for NICAM (TWP) with shape: (3744, 100, 100)\n",
      "Returned olr for NICAM (TWP) with shape: (3744, 1, 100, 100)\n",
      "Returned fwp for FV3 (TWP) with shape: (3840, 100, 100)\n",
      "Returned SWU for FV3 (TWP) with shape: (3648, 100, 100)\n",
      "Returned SWD for FV3 (TWP) with shape: (3648, 100, 100)\n",
      "Returned olr for FV3 (TWP) with shape: (3648, 100, 100)\n",
      "Returned fwp for ICON (TWP) with shape: (3838, 100, 100)\n",
      "Returned SWU for ICON (TWP) with shape: (3745, 100, 100)\n",
      "Returned SWD for ICON (TWP) with shape: (3745, 100, 100)\n",
      "Returned olr for ICON (TWP) with shape: (3745, 100, 100)\n",
      "Returned fwp for SAM (TWP) with shape: (1920, 100, 100)\n",
      "Returned SWU for SAM (TWP) with shape: (1824, 100, 100)\n",
      "    used FV3 SWD...\n",
      "Returned SWD for SAM (TWP) with shape: (1824, 100, 100)\n",
      "Returned olr for SAM (TWP) with shape: (1824, 100, 100)\n"
     ]
    }
   ],
   "source": [
    "region=\"TWP\"\n",
    "models=[\"CCCM\",\"NICAM\",\"FV3\",\"ICON\",\"SAM\"]\n",
    "fwp = []\n",
    "alb = []\n",
    "olr = []\n",
    "for i,m in enumerate(models):\n",
    "    if i==0:\n",
    "        ds = load.get_cccm(region)\n",
    "        fwp.append(ds[\"iwp MODIS\"].values)\n",
    "        albedo = ds[\"Outgoing SW radiation at TOA\"]/ds[\"Incoming SW radiation at TOA\"]\n",
    "        alb.append(albedo)\n",
    "        olr.append(ds[\"Outgoing LW radiation at TOA\"])\n",
    "    else:\n",
    "        fwp.append(load.get_iwp(m, region, ice_only=False))\n",
    "        alb.append(load.get_swu(m,region)/load.get_swd(m,region))\n",
    "        olr.append(load.get_olr(m,region))\n",
    "olr[1] = olr[1][:,0,:,:]\n"
   ]
  },
  {
   "cell_type": "code",
   "execution_count": 3,
   "metadata": {},
   "outputs": [
    {
     "data": {
      "text/plain": [
       "(5, 5, 5, (3744, 100, 100), (3744, 100, 100), (3744, 100, 100))"
      ]
     },
     "execution_count": 3,
     "metadata": {},
     "output_type": "execute_result"
    }
   ],
   "source": [
    "len(fwp), len(alb), len(olr), fwp[1].shape, alb[1].shape, olr[1].shape"
   ]
  },
  {
   "cell_type": "code",
   "execution_count": 4,
   "metadata": {},
   "outputs": [
    {
     "name": "stdout",
     "output_type": "stream",
     "text": [
      "[58273, 3744, 3648, 3646, 1824]\n"
     ]
    }
   ],
   "source": [
    "time_len = [i.shape[0] for i in fwp]\n",
    "print(time_len)"
   ]
  },
  {
   "cell_type": "code",
   "execution_count": 8,
   "metadata": {},
   "outputs": [
    {
     "name": "stdout",
     "output_type": "stream",
     "text": [
      "0\n",
      "1\n",
      "2\n",
      "3\n",
      "4\n",
      "5\n",
      "6\n",
      "7\n",
      "8\n",
      "9\n",
      "10\n",
      "11\n",
      "12\n",
      "13\n",
      "14\n",
      "15\n",
      "16\n",
      "17\n",
      "18\n",
      "19\n",
      "20\n",
      "21\n",
      "22\n",
      "23\n",
      "24\n",
      "25\n",
      "26\n",
      "27\n",
      "28\n",
      "29\n",
      "30\n",
      "31\n",
      "32\n"
     ]
    },
    {
     "ename": "AttributeError",
     "evalue": "'numpy.ndarray' object has no attribute 'append'",
     "output_type": "error",
     "traceback": [
      "\u001b[0;31m---------------------------------------------------------------------------\u001b[0m",
      "\u001b[0;31mAttributeError\u001b[0m                            Traceback (most recent call last)",
      "\u001b[0;32m<ipython-input-8-ebbcb72cde06>\u001b[0m in \u001b[0;36m<module>\u001b[0;34m\u001b[0m\n\u001b[1;32m     22\u001b[0m     \u001b[0mprint\u001b[0m\u001b[0;34m(\u001b[0m\u001b[0mj\u001b[0m\u001b[0;34m)\u001b[0m\u001b[0;34m\u001b[0m\u001b[0;34m\u001b[0m\u001b[0m\n\u001b[1;32m     23\u001b[0m \u001b[0;32mfor\u001b[0m \u001b[0mi\u001b[0m \u001b[0;32min\u001b[0m \u001b[0;34m[\u001b[0m\u001b[0mnarray\u001b[0m\u001b[0;34m,\u001b[0m \u001b[0mfarray\u001b[0m\u001b[0;34m,\u001b[0m \u001b[0miarray\u001b[0m\u001b[0;34m,\u001b[0m \u001b[0msarray\u001b[0m\u001b[0;34m]\u001b[0m\u001b[0;34m:\u001b[0m\u001b[0;34m\u001b[0m\u001b[0;34m\u001b[0m\u001b[0m\n\u001b[0;32m---> 24\u001b[0;31m     \u001b[0mfwp_coarsen\u001b[0m\u001b[0;34m.\u001b[0m\u001b[0mappend\u001b[0m\u001b[0;34m(\u001b[0m\u001b[0mi\u001b[0m\u001b[0;34m)\u001b[0m\u001b[0;34m\u001b[0m\u001b[0;34m\u001b[0m\u001b[0m\n\u001b[0m\u001b[1;32m     25\u001b[0m \u001b[0mprint\u001b[0m\u001b[0;34m(\u001b[0m\u001b[0mfwp_coarsen\u001b[0m\u001b[0;34m[\u001b[0m\u001b[0;36m0\u001b[0m\u001b[0;34m]\u001b[0m\u001b[0;34m.\u001b[0m\u001b[0mshape\u001b[0m\u001b[0;34m,\u001b[0m \u001b[0mfwp_coarsen\u001b[0m\u001b[0;34m[\u001b[0m\u001b[0;36m1\u001b[0m\u001b[0;34m]\u001b[0m\u001b[0;34m.\u001b[0m\u001b[0mshape\u001b[0m\u001b[0;34m)\u001b[0m\u001b[0;34m\u001b[0m\u001b[0;34m\u001b[0m\u001b[0m\n",
      "\u001b[0;31mAttributeError\u001b[0m: 'numpy.ndarray' object has no attribute 'append'"
     ]
    }
   ],
   "source": [
    "fwp_coarsen = [np.array([fwp[0], olr[0], alb[0]])] # obs are already coarsened\n",
    "narray = np.zeros((3,time_len[1],33,33))\n",
    "farray = np.zeros((3,time_len[2],33,33))\n",
    "iarray = np.zeros((3,time_len[3],33,33))\n",
    "sarray = np.zeros((3,time_len[4],33,33))\n",
    "\n",
    "for j in range(33):\n",
    "    for k in range(33):\n",
    "        narray[0,:,j,k] = np.nanmean((fwp[1][:,j*3:(j+1)*3,k*3:(k+1)*3]))\n",
    "        farray[0,:,j,k] = np.nanmean(fwp[2][:,j*3:(j+1)*3,k*3:(k+1)*3])\n",
    "        iarray[0,:,j,k] = np.nanmean(fwp[3][:,j*3:(j+1)*3,k*3:(k+1)*3])\n",
    "        sarray[0,:,j,k] = np.nanmean(fwp[4][:,j*3:(j+1)*3,k*3:(k+1)*3])\n",
    "        narray[1,:,j,k] = np.nanmean((olr[1][:,j*3:(j+1)*3,k*3:(k+1)*3]))\n",
    "        farray[1,:,j,k] = np.nanmean(olr[2][:,j*3:(j+1)*3,k*3:(k+1)*3])\n",
    "        iarray[1,:,j,k] = np.nanmean(olr[3][:,j*3:(j+1)*3,k*3:(k+1)*3])\n",
    "        sarray[1,:,j,k] = np.nanmean(olr[4][:,j*3:(j+1)*3,k*3:(k+1)*3])\n",
    "        narray[2,:,j,k] = np.nanmean((alb[1][:,j*3:(j+1)*3,k*3:(k+1)*3]))\n",
    "        farray[2,:,j,k] = np.nanmean(alb[2][:,j*3:(j+1)*3,k*3:(k+1)*3])\n",
    "        iarray[2,:,j,k] = np.nanmean(alb[3][:,j*3:(j+1)*3,k*3:(k+1)*3])\n",
    "        sarray[2,:,j,k] = np.nanmean(alb[4][:,j*3:(j+1)*3,k*3:(k+1)*3])\n",
    "    \n",
    "    print(j)\n",
    "for i in [narray, farray, iarray, sarray]:\n",
    "    fwp_coarsen.append(i)\n",
    "print(fwp_coarsen[0].shape, fwp_coarsen[1].shape)"
   ]
  },
  {
   "cell_type": "code",
   "execution_count": 6,
   "metadata": {},
   "outputs": [
    {
     "data": {
      "text/plain": [
       "(3, 3648, 33, 33)"
      ]
     },
     "execution_count": 6,
     "metadata": {},
     "output_type": "execute_result"
    }
   ],
   "source": [
    "fwp_coarsen[2].shape"
   ]
  },
  {
   "cell_type": "code",
   "execution_count": null,
   "metadata": {},
   "outputs": [],
   "source": []
  }
 ],
 "metadata": {
  "kernelspec": {
   "display_name": "Python (dyamond)",
   "language": "python",
   "name": "dyamond"
  },
  "language_info": {
   "codemirror_mode": {
    "name": "ipython",
    "version": 3
   },
   "file_extension": ".py",
   "mimetype": "text/x-python",
   "name": "python",
   "nbconvert_exporter": "python",
   "pygments_lexer": "ipython3",
   "version": "3.8.2"
  }
 },
 "nbformat": 4,
 "nbformat_minor": 2
}
