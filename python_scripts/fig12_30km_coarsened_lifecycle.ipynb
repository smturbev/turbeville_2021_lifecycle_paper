{
 "cells": [
  {
   "cell_type": "code",
   "execution_count": 40,
   "metadata": {},
   "outputs": [],
   "source": [
    "import numpy as np\n",
    "import utility.load01deg as load\n",
    "import matplotlib.pyplot as plt"
   ]
  },
  {
   "cell_type": "code",
   "execution_count": 80,
   "metadata": {},
   "outputs": [
    {
     "name": "stdout",
     "output_type": "stream",
     "text": [
      "Returned fwp for NICAM (TWP) with shape: (3936, 1, 100, 100)\n",
      "Returned SWU for NICAM (TWP) with shape: (3744, 100, 100)\n",
      "Returned SWD for NICAM (TWP) with shape: (3744, 100, 100)\n",
      "Returned olr for NICAM (TWP) with shape: (3744, 1, 100, 100)\n",
      "Returned fwp for FV3 (TWP) with shape: (3840, 100, 100)\n",
      "Returned SWU for FV3 (TWP) with shape: (3648, 100, 100)\n",
      "Returned SWD for FV3 (TWP) with shape: (3648, 100, 100)\n",
      "Returned olr for FV3 (TWP) with shape: (3648, 100, 100)\n",
      "Returned fwp for ICON (TWP) with shape: (3838, 100, 100)\n",
      "Returned SWU for ICON (TWP) with shape: (3745, 100, 100)\n",
      "Returned SWD for ICON (TWP) with shape: (3745, 100, 100)\n",
      "Returned olr for ICON (TWP) with shape: (3745, 100, 100)\n",
      "Returned fwp for SAM (TWP) with shape: (1920, 100, 100)\n",
      "Returned SWU for SAM (TWP) with shape: (1824, 100, 100)\n",
      "    used FV3 SWD...\n",
      "Returned SWD for SAM (TWP) with shape: (1824, 100, 100)\n",
      "Returned olr for SAM (TWP) with shape: (1824, 100, 100)\n"
     ]
    }
   ],
   "source": [
    "region=\"TWP\"\n",
    "models=[\"CCCM\",\"NICAM\",\"FV3\",\"ICON\",\"SAM\"]\n",
    "fwp = []\n",
    "alb = []\n",
    "olr = []\n",
    "for i,m in enumerate(models):\n",
    "    if i==0:\n",
    "        ds = load.get_cccm(region)\n",
    "        fwp.append(ds[\"iwp MODIS\"].values)\n",
    "        albedo = ds[\"Outgoing SW radiation at TOA\"].values/ds[\"Incoming SW radiation at TOA\"].values\n",
    "        alb.append(albedo)\n",
    "        olr.append(ds[\"Outgoing LW radiation at TOA\"].values)\n",
    "    else:\n",
    "        fwp.append(load.get_iwp(m, region, ice_only=False).values)\n",
    "        alb.append((load.get_swu(m,region)/load.get_swd(m,region)).values)\n",
    "        olr.append(load.get_olr(m,region).values)\n",
    "olr[1] = olr[1][:,0,:,:]\n"
   ]
  },
  {
   "cell_type": "code",
   "execution_count": 81,
   "metadata": {},
   "outputs": [
    {
     "data": {
      "text/plain": [
       "(5, 5, 5, (3744, 100, 100), (3744, 100, 100), (3744, 100, 100))"
      ]
     },
     "execution_count": 81,
     "metadata": {},
     "output_type": "execute_result"
    }
   ],
   "source": [
    "len(fwp), len(alb), len(olr), fwp[1].shape, alb[1].shape, olr[1].shape"
   ]
  },
  {
   "cell_type": "code",
   "execution_count": 82,
   "metadata": {},
   "outputs": [
    {
     "name": "stdout",
     "output_type": "stream",
     "text": [
      "[58273, 3744, 3648, 3646, 1824]\n"
     ]
    }
   ],
   "source": [
    "time_len = [i.shape[0] for i in fwp]\n",
    "print(time_len)"
   ]
  },
  {
   "cell_type": "code",
   "execution_count": 83,
   "metadata": {},
   "outputs": [
    {
     "name": "stdout",
     "output_type": "stream",
     "text": [
      "0\n",
      "1\n",
      "2\n",
      "3\n",
      "4\n",
      "5\n",
      "6\n",
      "7\n",
      "8\n",
      "9\n",
      "10\n",
      "11\n",
      "12\n",
      "13\n",
      "14\n",
      "15\n",
      "16\n",
      "17\n",
      "18\n",
      "19\n",
      "20\n",
      "21\n",
      "22\n",
      "23\n",
      "24\n",
      "25\n",
      "26\n",
      "27\n",
      "28\n",
      "29\n",
      "30\n",
      "31\n",
      "32\n",
      "(3, 58273) (3, 3744, 33, 33)\n"
     ]
    }
   ],
   "source": [
    "# coarsen the model output by averaging over 0.3 deg x 0.3 deg areas\n",
    "# Each model has an array that contains fwp, olr and alb as the first index\n",
    "fwp_coarsen = [np.array([fwp[0], olr[0], alb[0]])] # obs are already coarsened\n",
    "narray = np.zeros((3,time_len[1],33,33))\n",
    "farray = np.zeros((3,time_len[2],33,33))\n",
    "iarray = np.zeros((3,time_len[3],33,33))\n",
    "sarray = np.zeros((3,time_len[4],33,33))\n",
    "\n",
    "for j in range(33):\n",
    "    for k in range(33):\n",
    "        narray[0,:,j,k] = np.nanmean((fwp[1][:,j*3:(j+1)*3,k*3:(k+1)*3]))\n",
    "        farray[0,:,j,k] = np.nanmean(fwp[2][:,j*3:(j+1)*3,k*3:(k+1)*3])\n",
    "        iarray[0,:,j,k] = np.nanmean(fwp[3][:,j*3:(j+1)*3,k*3:(k+1)*3])\n",
    "        sarray[0,:,j,k] = np.nanmean(fwp[4][:,j*3:(j+1)*3,k*3:(k+1)*3])\n",
    "        narray[1,:,j,k] = np.nanmean((olr[1][:,j*3:(j+1)*3,k*3:(k+1)*3]))\n",
    "        farray[1,:,j,k] = np.nanmean(olr[2][:,j*3:(j+1)*3,k*3:(k+1)*3])\n",
    "        iarray[1,:,j,k] = np.nanmean(olr[3][:,j*3:(j+1)*3,k*3:(k+1)*3])\n",
    "        sarray[1,:,j,k] = np.nanmean(olr[4][:,j*3:(j+1)*3,k*3:(k+1)*3])\n",
    "        narray[2,:,j,k] = np.nanmean((alb[1][:,j*3:(j+1)*3,k*3:(k+1)*3]))\n",
    "        farray[2,:,j,k] = np.nanmean(alb[2][:,j*3:(j+1)*3,k*3:(k+1)*3])\n",
    "        iarray[2,:,j,k] = np.nanmean(alb[3][:,j*3:(j+1)*3,k*3:(k+1)*3])\n",
    "        sarray[2,:,j,k] = np.nanmean(alb[4][:,j*3:(j+1)*3,k*3:(k+1)*3])\n",
    "    \n",
    "    print(j)\n",
    "for i in [narray, farray, iarray, sarray]:\n",
    "    fwp_coarsen.append(i)\n",
    "print(fwp_coarsen[0].shape, fwp_coarsen[1].shape)"
   ]
  },
  {
   "cell_type": "code",
   "execution_count": 93,
   "metadata": {},
   "outputs": [
    {
     "data": {
      "image/png": "[encoded data removed]",
      "text/plain": [
       "<Figure size 432x288 with 1 Axes>"
      ]
     },
     "metadata": {
      "needs_background": "light"
     },
     "output_type": "display_data"
    }
   ],
   "source": [
    "plt.hist(np.log10(narray[0].flatten()), bins=np.arange(-3,4,0.2))\n",
    "plt.show()"
   ]
  },
  {
   "cell_type": "code",
   "execution_count": 85,
   "metadata": {},
   "outputs": [],
   "source": [
    "olr1, olr2, olr3 = [],[],[]\n",
    "alb1, alb2, alb3 = [],[],[]\n",
    "for i,m in enumerate(models):\n",
    "    if i==0:\n",
    "        cat1=1000\n",
    "        cat2=10\n",
    "        cat3=0.1\n",
    "    else:\n",
    "        cat1=1\n",
    "        cat2=1e-2\n",
    "        cat3=1e-4\n",
    "    olr1.append(np.where(fwp_coarsen[i][0]>=cat1, fwp_coarsen[i][1], np.nan))\n",
    "    alb1.append(np.where(fwp_coarsen[i][0]>=cat1, fwp_coarsen[i][2], np.nan))\n",
    "    olr2.append(np.where((fwp_coarsen[i][0]>=cat2)&(fwp_coarsen[i][0]<cat1), fwp_coarsen[i][1], np.nan))\n",
    "    alb2.append(np.where((fwp_coarsen[i][0]>=cat2)&(fwp_coarsen[i][0]<cat1), fwp_coarsen[i][2], np.nan))\n",
    "    olr3.append(np.where((fwp_coarsen[i][0]>=cat3)&(fwp_coarsen[i][0]<cat2), fwp_coarsen[i][1], np.nan))\n",
    "    alb3.append(np.where((fwp_coarsen[i][0]>=cat3)&(fwp_coarsen[i][0]<cat2), fwp_coarsen[i][2], np.nan))\n",
    "\n",
    "    \n",
    "    "
   ]
  },
  {
   "cell_type": "code",
   "execution_count": 86,
   "metadata": {},
   "outputs": [
    {
     "data": {
      "image/png": "[encoded data removed]",
      "text/plain": [
       "<Figure size 720x288 with 1 Axes>"
      ]
     },
     "metadata": {
      "needs_background": "light"
     },
     "output_type": "display_data"
    }
   ],
   "source": [
    "plt.figure(figsize=(10,4))\n",
    "plt.hist(np.log10(fwp_coarsen[1][0].flatten()), bins=np.arange(-5,5,0.2))\n",
    "plt.show()"
   ]
  },
  {
   "cell_type": "code",
   "execution_count": 87,
   "metadata": {},
   "outputs": [
    {
     "data": {
      "text/plain": [
       "(1824, 33, 33)"
      ]
     },
     "execution_count": 87,
     "metadata": {},
     "output_type": "execute_result"
    }
   ],
   "source": [
    "(np.where(fwp_coarsen[i][0]>=cat1, fwp_coarsen[i][1], np.nan)).shape"
   ]
  },
  {
   "cell_type": "code",
   "execution_count": 88,
   "metadata": {},
   "outputs": [
    {
     "data": {
      "text/plain": [
       "0"
      ]
     },
     "execution_count": 88,
     "metadata": {},
     "output_type": "execute_result"
    }
   ],
   "source": [
    "np.nansum((fwp_coarsen[1][0]>=1e-4)&(fwp_coarsen[1][0]<1e-2))"
   ]
  },
  {
   "cell_type": "code",
   "execution_count": 89,
   "metadata": {},
   "outputs": [
    {
     "data": {
      "text/plain": [
       "0.6955848932266235"
      ]
     },
     "execution_count": 89,
     "metadata": {},
     "output_type": "execute_result"
    }
   ],
   "source": [
    "np.nanmax(fwp_coarsen[1][0])"
   ]
  },
  {
   "cell_type": "code",
   "execution_count": 90,
   "metadata": {},
   "outputs": [
    {
     "name": "stdout",
     "output_type": "stream",
     "text": [
      "Returned fwp for NICAM (TWP) with shape: (3936, 1, 100, 100)\n"
     ]
    },
    {
     "data": {
      "image/png": "[encoded data removed]",
      "text/plain": [
       "<Figure size 432x288 with 1 Axes>"
      ]
     },
     "metadata": {
      "needs_background": "light"
     },
     "output_type": "display_data"
    }
   ],
   "source": [
    "plt.hist(np.log10(load.get_iwp(\"NICAM\", region, ice_only=False).values.flatten()), bins=np.arange(-5,5,0.2))\n",
    "plt.show()"
   ]
  },
  {
   "cell_type": "code",
   "execution_count": null,
   "metadata": {},
   "outputs": [],
   "source": []
  }
 ],
 "metadata": {
  "kernelspec": {
   "display_name": "Python (dyamond)",
   "language": "python",
   "name": "dyamond"
  },
  "language_info": {
   "codemirror_mode": {
    "name": "ipython",
    "version": 3
   },
   "file_extension": ".py",
   "mimetype": "text/x-python",
   "name": "python",
   "nbconvert_exporter": "python",
   "pygments_lexer": "ipython3",
   "version": "3.8.2"
  }
 },
 "nbformat": 4,
 "nbformat_minor": 2
}
